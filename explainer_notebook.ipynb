{
 "cells": [
  {
   "cell_type": "markdown",
   "metadata": {},
   "source": [
    "**1. Motivation**"
   ]
  },
  {
   "cell_type": "markdown",
   "metadata": {},
   "source": [
    "**What is your dataset?**"
   ]
  },
  {
   "cell_type": "markdown",
   "metadata": {},
   "source": [
    "We used data from two wikies:\n",
    "* Fandom wiki which focuses mainly on the TV show - http://gameofthrones.wikia.com\n",
    "* Westeros wiki which focuses mainly on the books - https://awoiaf.westeros.org\n",
    "\n",
    "We downloaded a xml dump from fandom wiki - http://gameofthrones.wikia.com/wiki/Game_of_Thrones_Wiki\n",
    "and the data from the Westeros wiki was obtained by using https://github.com/WikiTeam/wikiteam."
   ]
  },
  {
   "cell_type": "markdown",
   "metadata": {},
   "source": [
    "**Why did you choose this/these particular datasets?**"
   ]
  },
  {
   "cell_type": "markdown",
   "metadata": {},
   "source": [
    "We wanted to get as much data as possible and the fandom wiki were the website with most information about the Tv show.\n",
    "Furthermore the westeros wiki contains a lot of information about the \"a song of ice and fire\" books.\n",
    "\n",
    "We looked at other databases, but we were denied access when we tried to download larger data chunks."
   ]
  },
  {
   "cell_type": "markdown",
   "metadata": {},
   "source": [
    "**What was your goal for the end user's experince**"
   ]
  },
  {
   "cell_type": "markdown",
   "metadata": {},
   "source": [
    "We wanted for our end user to have a better understanding of the different relationships in the books as well as the series.\n",
    "Furthermore our goal was to compare the books with the series so the end user would have an idea of how different the two are.\n",
    "At last we wanted to show which places in Westeros were most suitable for vacation based on a sentiment analysis"
   ]
  },
  {
   "cell_type": "markdown",
   "metadata": {},
   "source": [
    "**2. Basic stats. Let's understand the dataset better**"
   ]
  },
  {
   "cell_type": "markdown",
   "metadata": {},
   "source": [
    "**Write about your choices in data cleaning and preprocessing**"
   ]
  },
  {
   "cell_type": "markdown",
   "metadata": {},
   "source": [
    "For both of the xml files we imported elementree to loop throught the xml files.\n",
    "First we seached for the titles in the files and ensured that they used 'utf-8' encoding.\n",
    "We then obtained the text which matched with the titles and again forced it to be 'utf-8' encoding.\n",
    "After all the pages were gathered, lower cases were applied to make the text uniform.\n",
    "If the wiki pages didn't have a redirection link (meaning it's not a webpage containing any information) regex were used to gather all the links from the pages.\n",
    "The links were cleaned by replacing white spaces with underscore, other string manipulation were also used.\n",
    "The information obtained from the title and the links from the text were added to a dictionary.\n",
    "\n",
    "We also needed to get information about the locations in Westeros.\n",
    "This information were gathered by loading a list of all locations from the gameofthrones wikia.\n",
    "We then used regex on the list to create proper links directing into the wiki pages of the locations.\n",
    "To clean it up two functions were used to remove most of the html tags to make the text more readable.\n",
    "At last we used regex again to remove that last html tags and different links in the text."
   ]
  },
  {
   "cell_type": "markdown",
   "metadata": {},
   "source": [
    "**Write a short section that discusses the dataset stats**"
   ]
  },
  {
   "cell_type": "markdown",
   "metadata": {},
   "source": [
    "**3. Tools, theory and analysis. Describe the process of theory to insight**"
   ]
  },
  {
   "cell_type": "markdown",
   "metadata": {},
   "source": [
    "**Talk about how you've worked with text, including regular expressions, unicode, etc**"
   ]
  },
  {
   "cell_type": "markdown",
   "metadata": {},
   "source": [
    "During this project we mostly used regular expressions and unicode during the data cleaning and preprocessing.\n",
    "In the xml files this was to make all the titles and text uniform, no whitespaces in the titles etc.\n",
    "This prevented us ending up with duplicates which would be bad in the networks. "
   ]
  },
  {
   "cell_type": "markdown",
   "metadata": {},
   "source": [
    "**Describe which network science tools and data analysis strategies you've used, how those network science measures work, and why the tools you've chosen are right for the problem you're solving**"
   ]
  },
  {
   "cell_type": "markdown",
   "metadata": {},
   "source": [
    "Both in-degree and out-degree has been used to sort out wiki pages that havent been linked to or linked from.\n",
    "This helped us focus on the characters that actually have relations to other characters.\n",
    "\n",
    "The average in- and out-degree also gives an idea on how well connected the network is. The higher average the more conenected the charaters are.\n",
    "\n",
    "Scatterplots and histogram were used to get a better overview of the data and also to catch errors.\n",
    "If the scatterplot showed a node which has a lot of in going links and no outging links, the data clearning properly went wrong for that character.\n",
    "\n",
    "Furthermore connected components were found to determine the GCC. The GCC is another way to sort away smaller group of nodes.\n",
    "\n",
    "Community detection has been used which helped us to compare the books with the tv series.\n",
    "\n",
    "Sentiment analysis works great to determine the most \"happy\" locations. This is done by comparing words from our text to words in a dictionay. The words in the dictionary are paired with a score which in our case represents happy or sad words."
   ]
  },
  {
   "cell_type": "markdown",
   "metadata": {},
   "source": [
    "**Discussion. Think critically about your creation**"
   ]
  },
  {
   "cell_type": "markdown",
   "metadata": {},
   "source": [
    "**What went well?**"
   ]
  },
  {
   "cell_type": "markdown",
   "metadata": {},
   "source": [
    "We did some good data cleaning "
   ]
  },
  {
   "cell_type": "markdown",
   "metadata": {},
   "source": [
    "**What is stil missing? What could be improved?, Why?**"
   ]
  }
 ],
 "metadata": {
  "kernelspec": {
   "display_name": "Python 2",
   "language": "python",
   "name": "python2"
  },
  "language_info": {
   "codemirror_mode": {
    "name": "ipython",
    "version": 2
   },
   "file_extension": ".py",
   "mimetype": "text/x-python",
   "name": "python",
   "nbconvert_exporter": "python",
   "pygments_lexer": "ipython2",
   "version": "2.7.13"
  }
 },
 "nbformat": 4,
 "nbformat_minor": 2
}
