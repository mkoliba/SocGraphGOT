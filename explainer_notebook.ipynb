{
 "cells": [
  {
   "cell_type": "markdown",
   "metadata": {},
   "source": [
    "# Social Graphs project -Gameof thrones\n",
    "## Motivation\n",
    "\n",
    "Our dataset were two wikies:\n",
    "- Fandom wiki which focuse maily on TV show\n",
    "http://gameofthrones.wikia.com\n",
    "\n",
    "- Westeros wiki which focuse mainly on books\n",
    "https://awoiaf.westeros.org\n",
    "\n",
    "We get xml dump from "
   ]
  },
  {
   "cell_type": "code",
   "execution_count": null,
   "metadata": {
    "collapsed": true
   },
   "outputs": [],
   "source": []
  },
  {
   "cell_type": "code",
   "execution_count": null,
   "metadata": {
    "collapsed": true
   },
   "outputs": [],
   "source": []
  },
  {
   "cell_type": "code",
   "execution_count": null,
   "metadata": {
    "collapsed": true
   },
   "outputs": [],
   "source": [
    "python dumpgenerator.py --api=http://awoiaf.westeros.org/api.php --xml  --curonly --delay=1 --resume --path=awoiafwesterosorg-20171129-wikidump"
   ]
  }
 ],
 "metadata": {
  "kernelspec": {
   "display_name": "Python 2",
   "language": "python",
   "name": "python2"
  },
  "language_info": {
   "codemirror_mode": {
    "name": "ipython",
    "version": 2
   },
   "file_extension": ".py",
   "mimetype": "text/x-python",
   "name": "python",
   "nbconvert_exporter": "python",
   "pygments_lexer": "ipython2",
   "version": "2.7.13"
  }
 },
 "nbformat": 4,
 "nbformat_minor": 2
}
